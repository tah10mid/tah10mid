{
  "nbformat": 4,
  "nbformat_minor": 0,
  "metadata": {
    "colab": {
      "provenance": [],
      "authorship_tag": "ABX9TyOd3Og1FhOKHID6rZsqLjYX",
      "include_colab_link": true
    },
    "kernelspec": {
      "name": "python3",
      "display_name": "Python 3"
    },
    "language_info": {
      "name": "python"
    }
  },
  "cells": [
    {
      "cell_type": "markdown",
      "metadata": {
        "id": "view-in-github",
        "colab_type": "text"
      },
      "source": [
        "<a href=\"https://colab.research.google.com/github/tah10mid/tah10mid/blob/main/assignment5_23201440_sec27_Tahmidul_islam.ipynb\" target=\"_parent\"><img src=\"https://colab.research.google.com/assets/colab-badge.svg\" alt=\"Open In Colab\"/></a>"
      ]
    },
    {
      "cell_type": "markdown",
      "source": [
        "CW-1.1) Write a function called even_checker that takes a number as its argument and prints whether the number is even or odd inside the function.\n"
      ],
      "metadata": {
        "id": "-QrBg5cauzbl"
      }
    },
    {
      "cell_type": "code",
      "execution_count": null,
      "metadata": {
        "id": "OLJ9EBewuigz",
        "colab": {
          "base_uri": "https://localhost:8080/"
        },
        "outputId": "3ef8c3e0-8d9f-4426-b93e-30578d08f074"
      },
      "outputs": [
        {
          "output_type": "stream",
          "name": "stdout",
          "text": [
            "Even!!\n",
            "Odd!!\n"
          ]
        }
      ],
      "source": [
        "def even_checker(num):\n",
        "    if num%2==0:\n",
        "        print(\"Even!!\")\n",
        "    else:\n",
        "        print(\"Odd!!\")\n",
        "even_checker(10)\n",
        "even_checker(17)\n",
        "\n"
      ]
    },
    {
      "cell_type": "markdown",
      "source": [
        "CW-1.2) Write a function called is_even() that takes a number as an argument and returns True if the number is even otherwise returns False."
      ],
      "metadata": {
        "id": "qlteaUwPvQUX"
      }
    },
    {
      "cell_type": "code",
      "source": [
        "def is_even(num):\n",
        "    if num%2==0:\n",
        "        return True\n",
        "    else:\n",
        "        return False\n",
        "result = is_even(10)\n",
        "print( result )\n",
        "result = is_even(17)\n",
        "print( result )\n"
      ],
      "metadata": {
        "id": "HZMYWzhKvPz5",
        "colab": {
          "base_uri": "https://localhost:8080/"
        },
        "outputId": "d2824d0b-8ce1-4ef5-b583-dacf6a3963c7"
      },
      "execution_count": null,
      "outputs": [
        {
          "output_type": "stream",
          "name": "stdout",
          "text": [
            "True\n",
            "False\n"
          ]
        }
      ]
    },
    {
      "cell_type": "markdown",
      "source": [
        "CW-1.3) Write a function called is_pos() that takes a number as an argument and returns True if the number is positive otherwise returns False.\n"
      ],
      "metadata": {
        "id": "UzBFb49pvt-x"
      }
    },
    {
      "cell_type": "code",
      "source": [
        "def is_pos(num):\n",
        "    if num>=0:\n",
        "        return True\n",
        "    else:\n",
        "        return False\n",
        "result = is_pos(-5)\n",
        "print( result )\n",
        "result = is_pos(12)\n",
        "print( result )"
      ],
      "metadata": {
        "id": "5XUXaIL7vwcq",
        "colab": {
          "base_uri": "https://localhost:8080/"
        },
        "outputId": "71872e74-fb9c-4588-861b-9759132469dc"
      },
      "execution_count": null,
      "outputs": [
        {
          "output_type": "stream",
          "name": "stdout",
          "text": [
            "False\n",
            "True\n"
          ]
        }
      ]
    },
    {
      "cell_type": "markdown",
      "source": [
        "CW-1.4) Write a function called sequence() that takes an integer in its parameter called n. Now, if n is positive then it prints all the even numbers from 0 to n, otherwise if n is negative it prints all the odd numbers from n to -1. Note: You must call the functions from CW-1.2 and CW-1.3, otherwise this task would be considered invalid."
      ],
      "metadata": {
        "id": "whyYipSZvzmg"
      }
    },
    {
      "cell_type": "code",
      "source": [
        "def sequence(n):\n",
        "  if is_pos(n)==True:\n",
        "    for i in range(0,n+1):\n",
        "      if is_even(i)==True:\n",
        "        print(i,\" \",end=\" \")\n",
        "  else:\n",
        "    for j in range(n,0):\n",
        "      if is_even(j)==False:\n",
        "        print(j,\" \",end=\" \")\n",
        "sequence(-7)\n",
        "\n"
      ],
      "metadata": {
        "id": "WNYs9kWCv21A",
        "colab": {
          "base_uri": "https://localhost:8080/"
        },
        "outputId": "1d9b68dd-0bb6-4fca-e222-8a92b5d35321"
      },
      "execution_count": null,
      "outputs": [
        {
          "output_type": "stream",
          "name": "stdout",
          "text": [
            "-7   -5   -3   -1   "
          ]
        }
      ]
    },
    {
      "cell_type": "markdown",
      "source": [
        "CW-2.1) Write a function called is_valid_triangle that takes 3 integer numbers as arguments. The function will return True if the 3 sides can form a valid triangle otherwise it’ll return False. Note: In a valid triangle, the sum of any two sides will be greater than the third side.\n",
        "\n"
      ],
      "metadata": {
        "id": "iGXQmC3nv6K7"
      }
    },
    {
      "cell_type": "code",
      "source": [
        "def  is_valid_triangle(p,q,r):\n",
        "    if p+q>r and q+r>p and r+p>q:\n",
        "        return True\n",
        "    else:\n",
        "        return False\n",
        "result=is_valid_triangle(7,5,10)\n",
        "print( result )\n",
        "\n",
        "result=is_valid_triangle(3,2,1)\n",
        "print( result )"
      ],
      "metadata": {
        "id": "6smpehLcv_qA",
        "colab": {
          "base_uri": "https://localhost:8080/"
        },
        "outputId": "4471e5be-3bb2-49e6-bdbc-4491c368b7dc"
      },
      "execution_count": null,
      "outputs": [
        {
          "output_type": "stream",
          "name": "stdout",
          "text": [
            "True\n",
            "False\n"
          ]
        }
      ]
    },
    {
      "cell_type": "markdown",
      "source": [
        "CW-2.2) Write a function called tri_area that takes 3 sides of a triangle as 3 arguments. The function should calculate and print the area of the triangle only if it's a valid triangle otherwise print that it's not a valid triangle. Area of triangle = √[s(s−a)(s−b)(s−c)], where 's' is the semi perimeter of the triangle. So, semi-perimeter = perimeter/2 = (a + b + c)/2. Note: You must call the function written in task CW-2.1, otherwise this task would be considered invalid."
      ],
      "metadata": {
        "id": "0mXTvDM3wEcx"
      }
    },
    {
      "cell_type": "code",
      "source": [
        "def tri_area(s1,s2,s3):\n",
        "  if is_valid_triangle(s1,s2,s3)==True:\n",
        "    s=(s1+s2+s3)/2\n",
        "    area=(s*(s-s1)*(s-s2)*(s-s3))**0.5\n",
        "    return area\n",
        "  else:\n",
        "    return \"Can't form triangle\"\n",
        "print(tri_area(7,5,10))\n"
      ],
      "metadata": {
        "id": "uYGNe0xcwHmA",
        "colab": {
          "base_uri": "https://localhost:8080/"
        },
        "outputId": "790a60b7-a1d7-40ee-d0ea-72297bc802c0"
      },
      "execution_count": null,
      "outputs": [
        {
          "output_type": "stream",
          "name": "stdout",
          "text": [
            "16.24807680927192\n"
          ]
        }
      ]
    },
    {
      "cell_type": "markdown",
      "source": [
        "CW-3.1) Write a function called circle that takes a radius in its parameter and returns the area of the circle. [Note: area of a circle is r2]"
      ],
      "metadata": {
        "id": "D6ighMhAwLiw"
      }
    },
    {
      "cell_type": "code",
      "source": [
        "import math\n",
        "def circle(rad):\n",
        "    a=math.pi*(rad**2)\n",
        "    return a\n",
        "circle(5)"
      ],
      "metadata": {
        "id": "zqEPWt5KwPVR",
        "colab": {
          "base_uri": "https://localhost:8080/"
        },
        "outputId": "6645623e-15de-4319-bebd-09e23452c19f"
      },
      "execution_count": null,
      "outputs": [
        {
          "output_type": "execute_result",
          "data": {
            "text/plain": [
              "78.53981633974483"
            ]
          },
          "metadata": {},
          "execution_count": 33
        }
      ]
    },
    {
      "cell_type": "markdown",
      "source": [
        "CW-3.2) Write a function called sphere that takes a radius in its parameter and returns the volume of the sphere. [Note: area of a sphere is 43r3]"
      ],
      "metadata": {
        "id": "tlpmngqHwT9T"
      }
    },
    {
      "cell_type": "code",
      "source": [
        "import math\n",
        "def sphere(rad):\n",
        "    vol=((4/3)*math.pi*(rad**3))\n",
        "    return vol\n",
        "sphere(5)"
      ],
      "metadata": {
        "id": "ADZyIkLrwXuK",
        "colab": {
          "base_uri": "https://localhost:8080/"
        },
        "outputId": "b155170d-b851-4c5d-8935-4f3fb3305316"
      },
      "execution_count": null,
      "outputs": [
        {
          "output_type": "execute_result",
          "data": {
            "text/plain": [
              "523.5987755982989"
            ]
          },
          "metadata": {},
          "execution_count": 35
        }
      ]
    },
    {
      "cell_type": "markdown",
      "source": [
        "CW-3.3) Write a function called fitting that takes three integer values as arguments. First two arguments are the two diameters and the third argument is the dimension. If it is 3 dimensional then you must calculate the volume of the spheres otherwise calculate the area of the circles. Finally, find out and print which circle/sphere can fit inside which one? Also, print how much space would be left if the smaller circle/sphere is put inside the larger one? Note: You must call the function written in task CW-3.1 & CW-3.2, otherwise this task would be considered invalid. Also, you can assume only 2 or 3 dimensions can be passed."
      ],
      "metadata": {
        "id": "k_JLGOc8wbKR"
      }
    },
    {
      "cell_type": "code",
      "source": [
        "import math\n",
        "\n",
        "def circle(rad):\n",
        "    a=math.pi*(rad**2)\n",
        "    return a\n",
        "circle(5)\n",
        "\n",
        "def sphere(rad):\n",
        "    vol=((4/3)*math.pi*(rad**3))\n",
        "    return vol\n",
        "\n",
        "def fitting(d1, d2, dim):\n",
        "    if dim==2:\n",
        "        area1=circle(d1/2)\n",
        "        area2=circle(d2/2)\n",
        "        if area1 > area2:\n",
        "            left_space= area1-area2\n",
        "            print(f\"Circle-2 can fit inside Circle-1 and {left_space} square units would be left.\")\n",
        "        elif area2 > area1:\n",
        "            left_space=area2-area1\n",
        "            print(f\"Circle-1 can fit inside Circle-2 and {left_space} square units would be left.\")\n",
        "        else:\n",
        "            print(\"impossible to fit\")\n",
        "    elif dim==3:\n",
        "        vol1=sphere(d1/2)\n",
        "        vol2=sphere(d2/2)\n",
        "        if vol1 > vol2:\n",
        "            left_space= vol1-vol2\n",
        "            print(f\"Sphere-2 can fit inside Sphere-1 and {left_space} cubic units would be left.\")\n",
        "        elif vol2 > vol1:\n",
        "            left_space=vol2-vol1\n",
        "            print(f\"Sphere-1 can fit inside Sphere-2 and {left_space} cubic units would be left.\")\n",
        "        else:\n",
        "            print(\"impossible to fit\")\n",
        "fitting(30,14,3)\n",
        "\n"
      ],
      "metadata": {
        "id": "0vQeQn16wedw",
        "colab": {
          "base_uri": "https://localhost:8080/"
        },
        "outputId": "5175788b-c046-4e84-c0b3-37bd6b8ccdda"
      },
      "execution_count": null,
      "outputs": [
        {
          "output_type": "stream",
          "name": "stdout",
          "text": [
            "Sphere-2 can fit inside Sphere-1 and 12700.411900912335 cubic units would be left.\n"
          ]
        }
      ]
    },
    {
      "cell_type": "markdown",
      "source": [
        "CW-5.1) Write a function called one_to_N that prints 1 till N recursively. Hint: N is a number taken as input from the user and you need to print the numbers starting from 1 to N recursively."
      ],
      "metadata": {
        "id": "fd2XaPrjwj1A"
      }
    },
    {
      "cell_type": "code",
      "source": [
        "n=int(input())\n",
        "def one_to_N(x,N):\n",
        "    if x==N:\n",
        "        print(x)\n",
        "    else:\n",
        "        print(x,end=\" \")\n",
        "        one_to_N(x+1,N)\n",
        "one_to_N(1,n)\n",
        "\n",
        "\n",
        "\n"
      ],
      "metadata": {
        "id": "tV669uyuxjMY",
        "colab": {
          "base_uri": "https://localhost:8080/"
        },
        "outputId": "6610803d-0685-457c-801b-c2cba12202dc"
      },
      "execution_count": null,
      "outputs": [
        {
          "output_type": "stream",
          "name": "stdout",
          "text": [
            "5\n",
            "1 2 3 4 5\n"
          ]
        }
      ]
    },
    {
      "cell_type": "markdown",
      "source": [
        "CW-5.2) Write a function reverse_printing from N to 1 recursively Hint: N is a number taken as input from the user and you need to print the numbers starting from N to 1."
      ],
      "metadata": {
        "id": "gzdtqWdsxmWZ"
      }
    },
    {
      "cell_type": "code",
      "source": [
        "n=int(input())\n",
        "def  reverse_printing(x,n):\n",
        "    if n==1:\n",
        "        print(n)\n",
        "    else:\n",
        "        print(n,end=\" \")\n",
        "        reverse_printing(x,(n-1))\n",
        "reverse_printing(1,n)\n",
        "\n",
        "\n"
      ],
      "metadata": {
        "id": "wjGGHhLHxpg4",
        "colab": {
          "base_uri": "https://localhost:8080/"
        },
        "outputId": "ae4093a0-4b02-48a5-dc70-8eede0c09523"
      },
      "execution_count": null,
      "outputs": [
        {
          "output_type": "stream",
          "name": "stdout",
          "text": [
            "6\n",
            "6 5 4 3 2 1\n"
          ]
        }
      ]
    },
    {
      "cell_type": "markdown",
      "source": [
        "CW-5.3) Write a function summation to sum till N recursively Hint: N is a number taken as input from the user and you need to add the numbers starting from 1 to N recursively and print the sum.\n",
        "\n"
      ],
      "metadata": {
        "id": "RFcvbRefxxLn"
      }
    },
    {
      "cell_type": "code",
      "source": [
        "n=int(input())\n",
        "def recursive_summation(x, n):\n",
        "    if x>n:\n",
        "        return 0\n",
        "    else:\n",
        "        return x + recursive_summation((x+1),n)\n",
        "recursive_summation(1,n)\n",
        "\n",
        "\n"
      ],
      "metadata": {
        "id": "5EMRqNMnx2bI",
        "colab": {
          "base_uri": "https://localhost:8080/"
        },
        "outputId": "9746f4f5-794d-4f2d-bcdc-5cd3df1a7b04"
      },
      "execution_count": null,
      "outputs": [
        {
          "name": "stdout",
          "output_type": "stream",
          "text": [
            "4\n"
          ]
        },
        {
          "output_type": "execute_result",
          "data": {
            "text/plain": [
              "10"
            ]
          },
          "metadata": {},
          "execution_count": 42
        }
      ]
    },
    {
      "cell_type": "markdown",
      "source": [
        "HW-1.1) Write a function called is_prime which takes an integer in its parameter to check whether a number is prime or not. If the number is prime then the function returns True otherwise it returns False.\n",
        "\n",
        "\n"
      ],
      "metadata": {
        "id": "TDKEfrkxyF3Q"
      }
    },
    {
      "cell_type": "code",
      "source": [
        "def is_prime(N):\n",
        "    count=0\n",
        "    for div in range(1,N  +1):\n",
        "        if N%div==0:\n",
        "            count+=1\n",
        "\n",
        "    if count==2:\n",
        "        return True\n",
        "    else:\n",
        "        return False\n",
        "\n",
        "prime_check = is_prime(7)\n",
        "print(prime_check)"
      ],
      "metadata": {
        "id": "7treZupXyJyI",
        "colab": {
          "base_uri": "https://localhost:8080/"
        },
        "outputId": "22ffdc4d-a6b0-49de-8808-78a08c060ed6"
      },
      "execution_count": null,
      "outputs": [
        {
          "output_type": "stream",
          "name": "stdout",
          "text": [
            "True\n"
          ]
        }
      ]
    },
    {
      "cell_type": "markdown",
      "source": [
        "HW-1.2) Write a function called is_perfect which takes an integer in its parameter to check whether a number is perfect or not. If the number is perfect then the function returns True otherwise it returns False."
      ],
      "metadata": {
        "id": "KhovJDBiyNEN"
      }
    },
    {
      "cell_type": "code",
      "source": [
        "def is_perfect(a):\n",
        "    total=0\n",
        "    for div in range(1,a):\n",
        "        if a%div==0:\n",
        "            total+=div\n",
        "\n",
        "    if a==total:\n",
        "        return True\n",
        "    else:\n",
        "        return False\n",
        "perfect_check = is_perfect(6)\n",
        "print(perfect_check)\n",
        "\n",
        "\n"
      ],
      "metadata": {
        "id": "GeY2skKhySSf",
        "colab": {
          "base_uri": "https://localhost:8080/"
        },
        "outputId": "a7e6a9a3-ad4c-48c4-ee62-4fd4eb5d8039"
      },
      "execution_count": null,
      "outputs": [
        {
          "output_type": "stream",
          "name": "stdout",
          "text": [
            "True\n"
          ]
        }
      ]
    },
    {
      "cell_type": "markdown",
      "source": [
        "HW-1.3) Write a function called special_sum that calculates the sum of all numbers that are either prime numbers or perfect up till the integer value given in its parameter. This integer value must be taken as user input and passed into the function."
      ],
      "metadata": {
        "id": "DSFNHSx3yVTZ"
      }
    },
    {
      "cell_type": "code",
      "source": [
        "def special_sum(ss):\n",
        "  sum=0\n",
        "  if ss==0:\n",
        "    return ss\n",
        "  else:\n",
        "    if is_prime(ss)==True or is_perfect(ss)==True:\n",
        "      sum+=ss\n",
        "    return sum + special_sum(ss-1)\n",
        "result=special_sum(8)\n",
        "print(result)"
      ],
      "metadata": {
        "id": "KiW_ZUNIyelf",
        "colab": {
          "base_uri": "https://localhost:8080/"
        },
        "outputId": "4c543c01-b5c6-46c6-982d-8c69c22f2302"
      },
      "execution_count": null,
      "outputs": [
        {
          "output_type": "stream",
          "name": "stdout",
          "text": [
            "23\n"
          ]
        }
      ]
    },
    {
      "cell_type": "markdown",
      "source": [
        "HW-2.1) Write a simple function called show_dots that takes a number as an argument and then prints that amount of dots inside the function. [2 points] Note: You can use print(,end=””) to avoid the next output being printed on the next line."
      ],
      "metadata": {
        "id": "JaLrnGUyyicS"
      }
    },
    {
      "cell_type": "code",
      "source": [
        "def show_dots(n):\n",
        "    for i in range(n):\n",
        "        print(\".\",end=\"\")\n",
        "show_dots(5)\n",
        "\n",
        "\n",
        "\n",
        "\n"
      ],
      "metadata": {
        "id": "KpoWk7XPynEQ",
        "colab": {
          "base_uri": "https://localhost:8080/"
        },
        "outputId": "3e3c9036-8b27-49c2-994a-83cfc105ebbb"
      },
      "execution_count": null,
      "outputs": [
        {
          "output_type": "stream",
          "name": "stdout",
          "text": [
            "....."
          ]
        }
      ]
    },
    {
      "cell_type": "markdown",
      "source": [
        "HW-2.2) Write a function called show_palindrome that takes a number as an argument and then prints a palindrome inside the function. [4 points] Note: You can use print(,end=””) to avoid the next output being printed on the next line"
      ],
      "metadata": {
        "id": "1aVcJ-ZSyvPJ"
      }
    },
    {
      "cell_type": "code",
      "source": [
        "def show_palindrome(n):\n",
        "    for i in range(1,n):\n",
        "        print(i,end=\"\")\n",
        "    for j in range(n,0,-1):\n",
        "        print(j,end=\"\")\n",
        "show_palindrome(5)\n",
        "\n"
      ],
      "metadata": {
        "id": "nAPdQoapyz6h",
        "colab": {
          "base_uri": "https://localhost:8080/"
        },
        "outputId": "237675c7-d841-4812-db10-ae8cd10b53bd"
      },
      "execution_count": null,
      "outputs": [
        {
          "output_type": "stream",
          "name": "stdout",
          "text": [
            "123454321"
          ]
        }
      ]
    },
    {
      "cell_type": "markdown",
      "source": [
        "HW-2.3) Write a function called show_triangle that takes a number as an argument and then prints a palindromic triangle. Moreover, the empty spaces surrounding the triangle are filled with dots(.) . Note: You must call the functions written in task HW-2.1 & HW-2.2, otherwise this task would be considered invalid."
      ],
      "metadata": {
        "id": "dGRUTZK3y3Ew"
      }
    },
    {
      "cell_type": "code",
      "source": [
        "def show_triangle(st):\n",
        "  for i in range(1,st+1):\n",
        "    show_dots(st-i)\n",
        "    show_palindrome(i)\n",
        "    show_dots(st-i)\n",
        "    print()\n",
        "show_triangle(5)"
      ],
      "metadata": {
        "id": "p0Na01B_y5sY",
        "colab": {
          "base_uri": "https://localhost:8080/"
        },
        "outputId": "da855a1e-73a5-4d84-bcfa-1b0a4dfc6204"
      },
      "execution_count": null,
      "outputs": [
        {
          "output_type": "stream",
          "name": "stdout",
          "text": [
            "....1....\n",
            "...121...\n",
            "..12321..\n",
            ".1234321.\n",
            "123454321\n"
          ]
        }
      ]
    },
    {
      "cell_type": "markdown",
      "source": [
        "HW-3.1) Write a function called calc_tax that takes 2 arguments which are your age then your salary. The function must calculate and return the tax as the following conditions:\n",
        "\n"
      ],
      "metadata": {
        "id": "GO_WUKrhy8px"
      }
    },
    {
      "cell_type": "code",
      "source": [
        "def  calc_tax(age,money):\n",
        "    if age<18:\n",
        "        tax=0\n",
        "        return tax\n",
        "    elif money<10000:\n",
        "        tax=0\n",
        "        return tax\n",
        "    elif 10000<=money<=20000:\n",
        "        tax=int(money*(7/100))\n",
        "        return tax\n",
        "    elif 20000<money:\n",
        "        tax=int(money*(14/100))\n",
        "        return tax\n",
        "user_age=int(input(\"Please enter your age: \"))\n",
        "user_salary=int(input(\"Please enter your salary: \"))\n",
        "\n",
        "calc_tax(user_age,user_salary)\n"
      ],
      "metadata": {
        "id": "Rmy9G9NAzAzP",
        "colab": {
          "base_uri": "https://localhost:8080/"
        },
        "outputId": "c7f7e457-e6fb-444a-8251-79043fd78ef3"
      },
      "execution_count": null,
      "outputs": [
        {
          "name": "stdout",
          "output_type": "stream",
          "text": [
            "Please enter your age: 20\n",
            "Please enter your salary: 18000\n"
          ]
        },
        {
          "output_type": "execute_result",
          "data": {
            "text/plain": [
              "1260"
            ]
          },
          "metadata": {},
          "execution_count": 7
        }
      ]
    },
    {
      "cell_type": "markdown",
      "source": [
        "HW-3.2) Write a function called calc_yearly_tax that takes no arguments. Inside the function it should take first input as your age and then 12 others inputs as income of each month of the year. The function must calculate and print Tax for each month and finally print the total Tax of the whole year based on the HW-3.1 conditions. [6 points] Note: You must call the function written in task HW-3.1, otherwise this task would be considered invalid."
      ],
      "metadata": {
        "id": "YVPGIBuJzhFx"
      }
    },
    {
      "cell_type": "code",
      "source": [
        "def  calc_yearly_tax():\n",
        "  age=int(input(\"Age:\"))\n",
        "  sum=0\n",
        "  for i in range(1,13):\n",
        "    income=float(input(\"Enter month\"+str(i)+\" income:\"))\n",
        "    month_tax=calc_tax(age,income)\n",
        "    print(\"Month\",i,\"tax:\",month_tax)\n",
        "    sum+=month_tax\n",
        "  print(\"Total yearly tax: \",sum)\n",
        "calc_yearly_tax()\n"
      ],
      "metadata": {
        "id": "kZgwq_pbzu6j",
        "colab": {
          "base_uri": "https://localhost:8080/"
        },
        "outputId": "56511f67-919d-4cdf-bec3-ae1f2cb10b3b"
      },
      "execution_count": null,
      "outputs": [
        {
          "output_type": "stream",
          "name": "stdout",
          "text": [
            "Age:22\n",
            "Enter month1 income:7000\n",
            "Month 1 tax: 0\n",
            "Enter month2 income:800000\n",
            "Month 2 tax: 112000\n",
            "Enter month3 income:12000000\n",
            "Month 3 tax: 1680000\n",
            "Enter month4 income:8999\n",
            "Month 4 tax: 0\n",
            "Enter month5 income:899999\n",
            "Month 5 tax: 125999\n",
            "Enter month6 income:98888888888\n",
            "Month 6 tax: 13844444444\n",
            "Enter month7 income:10000000\n",
            "Month 7 tax: 1400000\n",
            "Enter month8 income:110000\n",
            "Month 8 tax: 15400\n",
            "Enter month9 income:11000000\n",
            "Month 9 tax: 1540000\n",
            "Enter month10 income:5600\n",
            "Month 10 tax: 0\n",
            "Enter month11 income:8900\n",
            "Month 11 tax: 0\n",
            "Enter month12 income:1000000\n",
            "Month 12 tax: 140000\n",
            "Total yearly tax:  13849457843\n"
          ]
        }
      ]
    },
    {
      "cell_type": "markdown",
      "source": [
        "HW-4.1) Write a recursive function called reverse_digits that takes an integer n as an argument and prints the digits of n in reverse order. Hint: Think about how you solved it using loop"
      ],
      "metadata": {
        "id": "LIcT1Qeez0yQ"
      }
    },
    {
      "cell_type": "code",
      "source": [
        "n=int(input())\n",
        "def reverse_digits(n):\n",
        "  if n == 0:\n",
        "    return 0\n",
        "  else:\n",
        "    print(n%10)\n",
        "    reverse_digits(n//10)\n",
        "reverse_digits(n)"
      ],
      "metadata": {
        "id": "bSdCvx_Sz8xH",
        "colab": {
          "base_uri": "https://localhost:8080/"
        },
        "outputId": "c0e80d48-6fe3-48c1-dd38-b3be38d3cbfa"
      },
      "execution_count": null,
      "outputs": [
        {
          "output_type": "stream",
          "name": "stdout",
          "text": [
            "649\n",
            "9\n",
            "4\n",
            "6\n"
          ]
        }
      ]
    },
    {
      "cell_type": "markdown",
      "source": [
        "HW-4.2) Write a recursive function called power that takes two arguments a and n. The function calculates and returns the value of an."
      ],
      "metadata": {
        "id": "fVaWZ6lyz_a7"
      }
    },
    {
      "cell_type": "code",
      "source": [
        "a = int(input())\n",
        "n = int(input())\n",
        "\n",
        "def power(a,n):\n",
        "  if n == 0:\n",
        "    return 1\n",
        "  else:\n",
        "    return a*power(a,n-1)\n",
        "power(a,n)\n"
      ],
      "metadata": {
        "id": "ykYnP5250DYn",
        "colab": {
          "base_uri": "https://localhost:8080/"
        },
        "outputId": "04f7f21f-3e1b-4098-b383-dbb67d9ad9a9"
      },
      "execution_count": null,
      "outputs": [
        {
          "name": "stdout",
          "output_type": "stream",
          "text": [
            "3\n",
            "5\n"
          ]
        },
        {
          "output_type": "execute_result",
          "data": {
            "text/plain": [
              "243"
            ]
          },
          "metadata": {},
          "execution_count": 62
        }
      ]
    },
    {
      "cell_type": "markdown",
      "source": [
        "HW-5.0) Write a function called sequence_iterative that uses loop to calculate the value of y if the expression of y is as follows (Here, N is the input)"
      ],
      "metadata": {
        "id": "4TBCkCga0Phw"
      }
    },
    {
      "cell_type": "code",
      "source": [
        "def sequence_iterative(n):\n",
        "  y = 0\n",
        "  for i in range(1,n+1):\n",
        "    if i%2==0:\n",
        "      y-=i\n",
        "    else:\n",
        "      y+=i\n",
        "  print(y)\n",
        "sequence_iterative(5)"
      ],
      "metadata": {
        "id": "MJ8mO7Gx0TGp",
        "colab": {
          "base_uri": "https://localhost:8080/"
        },
        "outputId": "3dd48fef-4a9c-45fd-9a8c-ddefda3c523c"
      },
      "execution_count": null,
      "outputs": [
        {
          "output_type": "stream",
          "name": "stdout",
          "text": [
            "3\n"
          ]
        }
      ]
    },
    {
      "cell_type": "markdown",
      "source": [
        "HW-5.1) Write a recursive function called sequence_recursive that calculates the value of y if the expression of y is as follows (Here, N is the input)"
      ],
      "metadata": {
        "id": "nDq1ViRY0VXn"
      }
    },
    {
      "cell_type": "code",
      "source": [
        "def sequence_recursive(n):\n",
        "    if n==1:\n",
        "        return 1\n",
        "    else:\n",
        "        return (n*((-1)**(n+1)))+sequence_recursive(n-1)\n",
        "sequence_recursive(5)\n"
      ],
      "metadata": {
        "id": "EC37PHf20bSa",
        "colab": {
          "base_uri": "https://localhost:8080/"
        },
        "outputId": "b00edb18-abdf-4221-bf1e-6270a4dcbf2f"
      },
      "execution_count": null,
      "outputs": [
        {
          "output_type": "execute_result",
          "data": {
            "text/plain": [
              "3"
            ]
          },
          "metadata": {},
          "execution_count": 65
        }
      ]
    },
    {
      "cell_type": "markdown",
      "source": [
        "HW-5.2) Trace the Recursion code of HW-5.1 assuming the input value is 6."
      ],
      "metadata": {
        "id": "MDiG58AL0d-g"
      }
    },
    {
      "cell_type": "code",
      "source": [
        "def sequence_recursive(n):\n",
        "    if n==1:\n",
        "        return 1\n",
        "    else:\n",
        "        return (n*((-1)**(n+1)))+sequence_recursive(n-1)\n",
        "print(sequence_recursive(6))"
      ],
      "metadata": {
        "id": "rC7Op37E0gy3",
        "colab": {
          "base_uri": "https://localhost:8080/"
        },
        "outputId": "5cf929c1-4b42-4080-b24b-d5d5d8741112"
      },
      "execution_count": null,
      "outputs": [
        {
          "output_type": "stream",
          "name": "stdout",
          "text": [
            "-3\n"
          ]
        }
      ]
    }
  ]
}